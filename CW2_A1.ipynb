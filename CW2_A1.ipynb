{
 "cells": [
  {
   "cell_type": "markdown",
   "metadata": {},
   "source": [
    "# Imports"
   ]
  },
  {
   "cell_type": "code",
   "execution_count": 1,
   "metadata": {},
   "outputs": [],
   "source": [
    "import json\n",
    "import requests\n",
    "import pandas as pd"
   ]
  },
  {
   "cell_type": "markdown",
   "metadata": {},
   "source": [
    "# Activity 1"
   ]
  },
  {
   "cell_type": "markdown",
   "metadata": {},
   "source": [
    "## 1.1 Sub-activity: Open Data COVID-19 API"
   ]
  },
  {
   "cell_type": "markdown",
   "metadata": {},
   "source": [
    "### Task 1"
   ]
  },
  {
   "cell_type": "code",
   "execution_count": 2,
   "metadata": {},
   "outputs": [],
   "source": [
    "# def get_API_data(filters, structure):\n",
    "#     # API URL\n",
    "#     url = \"https://api.coronavirus.data.gov.uk/v1/data?filters=areaType=\" + filters[\"areaType\"] + \"&structure=\" + json.dumps(structure)\n",
    "#     # Get data from API\n",
    "#     response = requests.get(url).json()\n",
    "#     print(url)\n",
    "\n",
    "#     # Get cumulative vaccinations by age intervals\n",
    "#     for data in response[\"data\"]:\n",
    "#         vaccination_age_dist = {}\n",
    "#         for vaccination_age in data[\"vaccination_age\"]:\n",
    "#             vaccination_age_dist[vaccination_age[\"age\"]] = vaccination_age[\"cumPeopleVaccinatedCompleteByVaccinationDate\"]\n",
    "#         data[\"vaccination_age\"] = vaccination_age_dist\n",
    "        \n",
    "#     return response[\"data\"]\n",
    "\n",
    "def get_vaccination_age_intervals(data):\n",
    "    vaccination_age_dist = {}\n",
    "    for vaccination_age in data[\"vaccination_age\"]:\n",
    "        vaccination_age_dist[vaccination_age[\"age\"]] = vaccination_age[\"cumPeopleVaccinatedCompleteByVaccinationDate\"]\n",
    "    data[\"vaccination_age\"] = vaccination_age_dist\n",
    "\n",
    "def get_API_data(filters, structure):\n",
    "    # API URL\n",
    "    url = \"https://api.coronavirus.data.gov.uk/v1/data?\"\n",
    "\n",
    "    # Get data from region\n",
    "    if filters[\"areaType\"] == \"region\":\n",
    "        region_filters = []\n",
    "        for value in filters[\"areaCode\"].values():\n",
    "            filter = 'areaType=' + filters[\"areaType\"] + ';areaCode=' + value\n",
    "            region_filters.append(filter)\n",
    "\n",
    "        responses = []\n",
    "        for region_filter in region_filters:\n",
    "            params =  {\n",
    "                \"filters\": region_filter,\n",
    "                \"structure\": json.dumps(structure)\n",
    "            }\n",
    "            \n",
    "            response = requests.get(url,params = params).json()\n",
    "            \n",
    "            # Get cumulative vaccinations by age intervals\n",
    "            for data in response[\"data\"]:\n",
    "                get_vaccination_age_intervals(data)\n",
    "            \n",
    "            for response in response[\"data\"]:\n",
    "                responses.append(response)\n",
    "\n",
    "        return responses\n",
    "\n",
    "    # Get data from nation\n",
    "    else:\n",
    "        params =  {\n",
    "                \"filters\": ('areaType=' + filters[\"areaType\"]),\n",
    "                \"structure\": json.dumps(structure)\n",
    "            }\n",
    "\n",
    "        response = requests.get(url,params = params).json()\n",
    "\n",
    "        # Get cumulative vaccinations by age intervals\n",
    "        for data in response[\"data\"]:\n",
    "            get_vaccination_age_intervals(data)\n",
    "        \n",
    "        return response[\"data\"]"
   ]
  },
  {
   "cell_type": "markdown",
   "metadata": {},
   "source": [
    "### Task 2"
   ]
  },
  {
   "cell_type": "code",
   "execution_count": 3,
   "metadata": {},
   "outputs": [],
   "source": [
    "nation_filters = {\"areaType\":\"nation\"}\n",
    "region_filters = {\n",
    "    \"areaType\": \"region\",\n",
    "    \"areaCode\": {\n",
    "        \"North East\": \"E12000001\",\n",
    "        \"North West\": \"E12000002\",\n",
    "        \"Yorkshire and The Humber\": \"E12000003\",\n",
    "        \"East Midlands\": \"E12000004\",\n",
    "        \"West Midlands\": \"E12000005\",\n",
    "        \"East of England\": \"E12000006\",\n",
    "        \"London\": \"E12000007\",\n",
    "        \"South East\": \"E12000008\",\n",
    "        \"South West\": \"E12000009\",\n",
    "    }\n",
    "}\n",
    "\n",
    "structure = {\n",
    "    \"date\":\"date\",\n",
    "    \"name\":\"areaName\",\n",
    "    \"daily_cases\":\"newCasesBySpecimenDate\",\n",
    "    \"cumulative_cases\":\"cumCasesBySpecimenDate\",\n",
    "    \"daily_deaths\":\"newDeaths28DaysByPublishDate\",\n",
    "    \"cumulative_deaths\":\"cumDeaths28DaysByPublishDate\",\n",
    "    \"cumulative_vaccinated\":\"cumPeopleVaccinatedCompleteByVaccinationDate\",\n",
    "    \"vaccination_age\":\"vaccinationsAgeDemographics\"\n",
    "    }\n",
    "\n",
    "results_json_national = get_API_data(nation_filters, structure)\n",
    "results_json_regional = get_API_data(region_filters, structure)"
   ]
  },
  {
   "cell_type": "markdown",
   "metadata": {},
   "source": [
    "## 1.2 Sub-activity: Shaping the COVID data into different dataframes"
   ]
  },
  {
   "cell_type": "markdown",
   "metadata": {},
   "source": [
    "### Task 3"
   ]
  },
  {
   "cell_type": "code",
   "execution_count": 4,
   "metadata": {},
   "outputs": [
    {
     "name": "stdout",
     "output_type": "stream",
     "text": [
      "Counter({'England': 1037, 'Wales': 1009, 'Scotland': 1004, 'Northern Ireland': 815})\n",
      "Counter({'Yorkshire and The Humber': 1037, 'North West': 1034, 'East of England': 1033, 'London': 1033, 'South East': 1033, 'South West': 1033, 'West Midlands': 1024, 'East Midlands': 1015, 'North East': 1005})\n"
     ]
    }
   ],
   "source": [
    "from collections import Counter\n",
    "a = Counter([data[\"name\"] for data in results_json_national])\n",
    "b = Counter([data[\"name\"] for data in results_json_regional])\n",
    "print(a, \"\\n\", b, sep = \"\")"
   ]
  },
  {
   "cell_type": "markdown",
   "metadata": {},
   "source": [
    "### Task 4"
   ]
  },
  {
   "cell_type": "code",
   "execution_count": null,
   "metadata": {},
   "outputs": [],
   "source": []
  },
  {
   "cell_type": "markdown",
   "metadata": {},
   "source": [
    "### Task 5"
   ]
  },
  {
   "cell_type": "code",
   "execution_count": null,
   "metadata": {},
   "outputs": [],
   "source": []
  },
  {
   "cell_type": "markdown",
   "metadata": {},
   "source": [
    "### Task 6"
   ]
  },
  {
   "cell_type": "code",
   "execution_count": null,
   "metadata": {},
   "outputs": [],
   "source": []
  },
  {
   "cell_type": "markdown",
   "metadata": {},
   "source": [
    "### Task 7"
   ]
  },
  {
   "cell_type": "code",
   "execution_count": null,
   "metadata": {},
   "outputs": [],
   "source": []
  },
  {
   "cell_type": "markdown",
   "metadata": {},
   "source": [
    "### Task 8"
   ]
  },
  {
   "cell_type": "code",
   "execution_count": null,
   "metadata": {},
   "outputs": [],
   "source": []
  },
  {
   "cell_type": "markdown",
   "metadata": {},
   "source": [
    "### Task 9"
   ]
  },
  {
   "cell_type": "code",
   "execution_count": null,
   "metadata": {},
   "outputs": [],
   "source": []
  },
  {
   "cell_type": "markdown",
   "metadata": {},
   "source": [
    "### Task 10"
   ]
  },
  {
   "cell_type": "code",
   "execution_count": null,
   "metadata": {},
   "outputs": [],
   "source": []
  },
  {
   "cell_type": "markdown",
   "metadata": {},
   "source": [
    "### Task 11"
   ]
  },
  {
   "cell_type": "code",
   "execution_count": null,
   "metadata": {},
   "outputs": [],
   "source": []
  },
  {
   "cell_type": "markdown",
   "metadata": {},
   "source": [
    "### Task 12"
   ]
  },
  {
   "cell_type": "code",
   "execution_count": null,
   "metadata": {},
   "outputs": [],
   "source": []
  },
  {
   "cell_type": "markdown",
   "metadata": {},
   "source": [
    "### Task 13"
   ]
  },
  {
   "cell_type": "code",
   "execution_count": null,
   "metadata": {},
   "outputs": [],
   "source": []
  },
  {
   "cell_type": "markdown",
   "metadata": {},
   "source": [
    "### Task 14"
   ]
  },
  {
   "cell_type": "code",
   "execution_count": null,
   "metadata": {},
   "outputs": [],
   "source": []
  },
  {
   "cell_type": "markdown",
   "metadata": {},
   "source": [
    "## 1.3 Sub-activity: Aggregating, plotting, and analysing"
   ]
  },
  {
   "cell_type": "markdown",
   "metadata": {},
   "source": [
    "### Task 15"
   ]
  },
  {
   "cell_type": "code",
   "execution_count": null,
   "metadata": {},
   "outputs": [],
   "source": []
  },
  {
   "cell_type": "markdown",
   "metadata": {},
   "source": [
    "### Task 16"
   ]
  },
  {
   "cell_type": "code",
   "execution_count": null,
   "metadata": {},
   "outputs": [],
   "source": []
  },
  {
   "cell_type": "markdown",
   "metadata": {},
   "source": [
    "### Task 17"
   ]
  },
  {
   "cell_type": "code",
   "execution_count": null,
   "metadata": {},
   "outputs": [],
   "source": []
  },
  {
   "cell_type": "markdown",
   "metadata": {},
   "source": [
    "### Task 18"
   ]
  },
  {
   "cell_type": "code",
   "execution_count": null,
   "metadata": {},
   "outputs": [],
   "source": []
  },
  {
   "cell_type": "markdown",
   "metadata": {},
   "source": [
    "### Task 19"
   ]
  },
  {
   "cell_type": "code",
   "execution_count": null,
   "metadata": {},
   "outputs": [],
   "source": []
  },
  {
   "cell_type": "markdown",
   "metadata": {},
   "source": [
    "### Task 20"
   ]
  },
  {
   "cell_type": "code",
   "execution_count": null,
   "metadata": {},
   "outputs": [],
   "source": []
  },
  {
   "cell_type": "markdown",
   "metadata": {},
   "source": [
    "### Task 21"
   ]
  },
  {
   "cell_type": "code",
   "execution_count": null,
   "metadata": {},
   "outputs": [],
   "source": []
  },
  {
   "cell_type": "markdown",
   "metadata": {},
   "source": [
    "### Task 22"
   ]
  },
  {
   "cell_type": "code",
   "execution_count": null,
   "metadata": {},
   "outputs": [],
   "source": []
  },
  {
   "cell_type": "markdown",
   "metadata": {},
   "source": [
    "### Task 23"
   ]
  },
  {
   "cell_type": "code",
   "execution_count": null,
   "metadata": {},
   "outputs": [],
   "source": []
  },
  {
   "cell_type": "markdown",
   "metadata": {},
   "source": [
    "### Task 24"
   ]
  },
  {
   "cell_type": "code",
   "execution_count": null,
   "metadata": {},
   "outputs": [],
   "source": []
  },
  {
   "cell_type": "markdown",
   "metadata": {},
   "source": [
    "### Task 25"
   ]
  },
  {
   "cell_type": "code",
   "execution_count": null,
   "metadata": {},
   "outputs": [],
   "source": []
  },
  {
   "cell_type": "markdown",
   "metadata": {},
   "source": [
    "### Task 26"
   ]
  },
  {
   "cell_type": "code",
   "execution_count": null,
   "metadata": {},
   "outputs": [],
   "source": []
  },
  {
   "cell_type": "markdown",
   "metadata": {},
   "source": [
    "### Task 27"
   ]
  },
  {
   "cell_type": "code",
   "execution_count": null,
   "metadata": {},
   "outputs": [],
   "source": []
  },
  {
   "cell_type": "markdown",
   "metadata": {},
   "source": [
    "### Task 28"
   ]
  },
  {
   "cell_type": "code",
   "execution_count": null,
   "metadata": {},
   "outputs": [],
   "source": []
  }
 ],
 "metadata": {
  "kernelspec": {
   "display_name": "Python 3.9.13 ('base')",
   "language": "python",
   "name": "python3"
  },
  "language_info": {
   "codemirror_mode": {
    "name": "ipython",
    "version": 3
   },
   "file_extension": ".py",
   "mimetype": "text/x-python",
   "name": "python",
   "nbconvert_exporter": "python",
   "pygments_lexer": "ipython3",
   "version": "3.9.13"
  },
  "orig_nbformat": 4,
  "vscode": {
   "interpreter": {
    "hash": "40d3a090f54c6569ab1632332b64b2c03c39dcf918b08424e98f38b5ae0af88f"
   }
  }
 },
 "nbformat": 4,
 "nbformat_minor": 2
}

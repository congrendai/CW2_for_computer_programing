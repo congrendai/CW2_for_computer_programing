{
 "cells": [
  {
   "cell_type": "markdown",
   "metadata": {},
   "source": [
    "# Imports"
   ]
  },
  {
   "cell_type": "code",
   "execution_count": 36,
   "metadata": {},
   "outputs": [],
   "source": [
    "import json\n",
    "import requests\n",
    "import numpy as np\n",
    "import pandas as pd\n",
    "from typing import Iterable, Dict, Union, List"
   ]
  },
  {
   "cell_type": "markdown",
   "metadata": {},
   "source": [
    "# Activity 1"
   ]
  },
  {
   "cell_type": "markdown",
   "metadata": {},
   "source": [
    "## 1.1 Sub-activity: Open Data COVID-19 API"
   ]
  },
  {
   "cell_type": "markdown",
   "metadata": {},
   "source": [
    "### Task 1"
   ]
  },
  {
   "cell_type": "code",
   "execution_count": 37,
   "metadata": {},
   "outputs": [],
   "source": [
    "# The source code is retrieved from https://coronavirus.data.gov.uk/details/developers-guide/main-api\n",
    "\n",
    "StructureType = Dict[str, Union[dict, str]]\n",
    "FiltersType = Iterable[str]\n",
    "\n",
    "def get_API_data(filters:FiltersType , structure: StructureType):\n",
    "    # API URL\n",
    "    endpoint = \"https://api.coronavirus.data.gov.uk/v1/data\"\n",
    "\n",
    "    api_params = {\n",
    "        \"filters\": 'areaType=' + filters[\"areaType\"],\n",
    "        \"structure\": json.dumps(structure)\n",
    "    }\n",
    "\n",
    "    data = []\n",
    "    page_number = 1\n",
    "    \n",
    "    while True:\n",
    "        # Adding page number to query params\n",
    "        api_params[\"page\"] = page_number\n",
    "\n",
    "        response = requests.get(endpoint, params=api_params)\n",
    "\n",
    "        current_data = response.json()\n",
    "        \n",
    "        # If there is no data in vaccination_age, set the value to NaN for Pandas' DataFrame\n",
    "        for age in current_data['data']:\n",
    "            if not age[\"vaccination_age\"]:\n",
    "                age[\"vaccination_age\"] = np.nan\n",
    "\n",
    "        page_data: List[StructureType] = current_data['data']\n",
    "       \n",
    "        data.extend(page_data)\n",
    "\n",
    "        # The \"next\" attribute in \"pagination\" will be `None`\n",
    "        # when we reach the end.\n",
    "        if current_data[\"pagination\"][\"next\"] is None:\n",
    "            break\n",
    "\n",
    "        page_number += 1\n",
    "\n",
    "    return data"
   ]
  },
  {
   "cell_type": "markdown",
   "metadata": {},
   "source": [
    "### Task 2"
   ]
  },
  {
   "cell_type": "code",
   "execution_count": 38,
   "metadata": {},
   "outputs": [],
   "source": [
    "nation_filters = {\"areaType\":\"nation\"}\n",
    "region_filters = {\"areaType\":\"region\"}\n",
    "\n",
    "structure = {\n",
    "    \"date\": \"date\",\n",
    "    \"name\": \"areaName\",\n",
    "    \"daily_cases\": \"newCasesBySpecimenDate\",\n",
    "    \"cumulative_cases\": \"cumCasesBySpecimenDate\",\n",
    "    \"daily_deaths\": \"newDeaths28DaysByPublishDate\",\n",
    "    \"cumulative_deaths\": \"cumDeaths28DaysByPublishDate\",\n",
    "    \"cumulative_vaccinated\": \"cumPeopleVaccinatedCompleteByVaccinationDate\",\n",
    "    \"vaccination_age\": \"vaccinationsAgeDemographics\"\n",
    "    }\n",
    "\n",
    "results_json_national = get_API_data(nation_filters, structure)\n",
    "results_json_regional = get_API_data(region_filters, structure)"
   ]
  },
  {
   "cell_type": "markdown",
   "metadata": {},
   "source": [
    "## 1.2 Sub-activity: Shaping the COVID data into different dataframes"
   ]
  },
  {
   "cell_type": "markdown",
   "metadata": {},
   "source": [
    "### Task 3"
   ]
  },
  {
   "cell_type": "code",
   "execution_count": 39,
   "metadata": {},
   "outputs": [],
   "source": [
    "covid_data_list = results_json_national + results_json_regional"
   ]
  },
  {
   "cell_type": "markdown",
   "metadata": {},
   "source": [
    "### Task 4"
   ]
  },
  {
   "cell_type": "code",
   "execution_count": 40,
   "metadata": {},
   "outputs": [],
   "source": [
    "covid_data = pd.DataFrame(covid_data_list)"
   ]
  },
  {
   "cell_type": "markdown",
   "metadata": {},
   "source": [
    "### Task 5"
   ]
  },
  {
   "cell_type": "code",
   "execution_count": 41,
   "metadata": {},
   "outputs": [],
   "source": [
    "covid_data.drop(covid_data[covid_data[\"name\"] == \"England\"].index, inplace=True)\n",
    "covid_data.reset_index(drop=True, inplace=True)"
   ]
  },
  {
   "cell_type": "markdown",
   "metadata": {},
   "source": [
    "### Task 6"
   ]
  },
  {
   "cell_type": "code",
   "execution_count": 42,
   "metadata": {},
   "outputs": [],
   "source": [
    "covid_data.rename(columns={\"name\": \"area\"}, inplace=True)"
   ]
  },
  {
   "cell_type": "markdown",
   "metadata": {},
   "source": [
    "### Task 7"
   ]
  },
  {
   "cell_type": "code",
   "execution_count": 43,
   "metadata": {},
   "outputs": [],
   "source": [
    "covid_data['date'] = pd.to_datetime(covid_data['date'])"
   ]
  },
  {
   "cell_type": "markdown",
   "metadata": {},
   "source": [
    "### Task 8"
   ]
  },
  {
   "cell_type": "code",
   "execution_count": 44,
   "metadata": {},
   "outputs": [
    {
     "name": "stdout",
     "output_type": "stream",
     "text": [
      "The amount of missing data is 13825.\n"
     ]
    }
   ],
   "source": [
    "# Since the vaccination_age will return a emtpy list if the data is not available\n",
    "# I set the empty list value to NaN for Pandas' DataFrame by using Numpy's function \"np.nan\"\n",
    "# Therefore, all the Nan values will be counted as missing data in the dataframe\n",
    "nan = covid_data.isna().sum().sum()\n",
    "print(\"The amount of missing data is {}.\".format(nan)) "
   ]
  },
  {
   "cell_type": "markdown",
   "metadata": {},
   "source": [
    "### Task 9"
   ]
  },
  {
   "cell_type": "code",
   "execution_count": 52,
   "metadata": {},
   "outputs": [
    {
     "data": {
      "text/html": [
       "<div>\n",
       "<style scoped>\n",
       "    .dataframe tbody tr th:only-of-type {\n",
       "        vertical-align: middle;\n",
       "    }\n",
       "\n",
       "    .dataframe tbody tr th {\n",
       "        vertical-align: top;\n",
       "    }\n",
       "\n",
       "    .dataframe thead th {\n",
       "        text-align: right;\n",
       "    }\n",
       "</style>\n",
       "<table border=\"1\" class=\"dataframe\">\n",
       "  <thead>\n",
       "    <tr style=\"text-align: right;\">\n",
       "      <th></th>\n",
       "      <th>date</th>\n",
       "      <th>area</th>\n",
       "      <th>daily_cases</th>\n",
       "      <th>cumulative_cases</th>\n",
       "      <th>daily_deaths</th>\n",
       "      <th>cumulative_deaths</th>\n",
       "      <th>cumulative_vaccinated</th>\n",
       "      <th>vaccination_age</th>\n",
       "    </tr>\n",
       "  </thead>\n",
       "  <tbody>\n",
       "    <tr>\n",
       "      <th>8608</th>\n",
       "      <td>2022-12-01</td>\n",
       "      <td>London</td>\n",
       "      <td>248.0</td>\n",
       "      <td>3101083.0</td>\n",
       "      <td>41.0</td>\n",
       "      <td>21822.0</td>\n",
       "      <td>6090340.0</td>\n",
       "      <td>[{'age': '05_11', 'VaccineRegisterPopulationBy...</td>\n",
       "    </tr>\n",
       "    <tr>\n",
       "      <th>8609</th>\n",
       "      <td>2022-11-30</td>\n",
       "      <td>London</td>\n",
       "      <td>248.0</td>\n",
       "      <td>3101083.0</td>\n",
       "      <td>0.0</td>\n",
       "      <td>21781.0</td>\n",
       "      <td>6090340.0</td>\n",
       "      <td>[{'age': '05_11', 'VaccineRegisterPopulationBy...</td>\n",
       "    </tr>\n",
       "    <tr>\n",
       "      <th>8610</th>\n",
       "      <td>2022-11-29</td>\n",
       "      <td>London</td>\n",
       "      <td>453.0</td>\n",
       "      <td>3100835.0</td>\n",
       "      <td>0.0</td>\n",
       "      <td>21781.0</td>\n",
       "      <td>6090184.0</td>\n",
       "      <td>[{'age': '05_11', 'VaccineRegisterPopulationBy...</td>\n",
       "    </tr>\n",
       "    <tr>\n",
       "      <th>8611</th>\n",
       "      <td>2022-11-28</td>\n",
       "      <td>London</td>\n",
       "      <td>469.0</td>\n",
       "      <td>3100382.0</td>\n",
       "      <td>0.0</td>\n",
       "      <td>21781.0</td>\n",
       "      <td>6090018.0</td>\n",
       "      <td>[{'age': '05_11', 'VaccineRegisterPopulationBy...</td>\n",
       "    </tr>\n",
       "    <tr>\n",
       "      <th>8612</th>\n",
       "      <td>2022-11-27</td>\n",
       "      <td>London</td>\n",
       "      <td>377.0</td>\n",
       "      <td>3099913.0</td>\n",
       "      <td>0.0</td>\n",
       "      <td>21781.0</td>\n",
       "      <td>6089862.0</td>\n",
       "      <td>[{'age': '05_11', 'VaccineRegisterPopulationBy...</td>\n",
       "    </tr>\n",
       "    <tr>\n",
       "      <th>...</th>\n",
       "      <td>...</td>\n",
       "      <td>...</td>\n",
       "      <td>...</td>\n",
       "      <td>...</td>\n",
       "      <td>...</td>\n",
       "      <td>...</td>\n",
       "      <td>...</td>\n",
       "      <td>...</td>\n",
       "    </tr>\n",
       "    <tr>\n",
       "      <th>9636</th>\n",
       "      <td>2020-02-07</td>\n",
       "      <td>London</td>\n",
       "      <td>0.0</td>\n",
       "      <td>1.0</td>\n",
       "      <td>NaN</td>\n",
       "      <td>NaN</td>\n",
       "      <td>NaN</td>\n",
       "      <td>NaN</td>\n",
       "    </tr>\n",
       "    <tr>\n",
       "      <th>9637</th>\n",
       "      <td>2020-02-06</td>\n",
       "      <td>London</td>\n",
       "      <td>0.0</td>\n",
       "      <td>1.0</td>\n",
       "      <td>NaN</td>\n",
       "      <td>NaN</td>\n",
       "      <td>NaN</td>\n",
       "      <td>NaN</td>\n",
       "    </tr>\n",
       "    <tr>\n",
       "      <th>9638</th>\n",
       "      <td>2020-02-05</td>\n",
       "      <td>London</td>\n",
       "      <td>0.0</td>\n",
       "      <td>1.0</td>\n",
       "      <td>NaN</td>\n",
       "      <td>NaN</td>\n",
       "      <td>NaN</td>\n",
       "      <td>NaN</td>\n",
       "    </tr>\n",
       "    <tr>\n",
       "      <th>9639</th>\n",
       "      <td>2020-02-04</td>\n",
       "      <td>London</td>\n",
       "      <td>0.0</td>\n",
       "      <td>1.0</td>\n",
       "      <td>NaN</td>\n",
       "      <td>NaN</td>\n",
       "      <td>NaN</td>\n",
       "      <td>NaN</td>\n",
       "    </tr>\n",
       "    <tr>\n",
       "      <th>9640</th>\n",
       "      <td>2020-02-03</td>\n",
       "      <td>London</td>\n",
       "      <td>1.0</td>\n",
       "      <td>1.0</td>\n",
       "      <td>NaN</td>\n",
       "      <td>NaN</td>\n",
       "      <td>NaN</td>\n",
       "      <td>NaN</td>\n",
       "    </tr>\n",
       "  </tbody>\n",
       "</table>\n",
       "<p>1033 rows × 8 columns</p>\n",
       "</div>"
      ],
      "text/plain": [
       "           date    area  daily_cases  cumulative_cases  daily_deaths  \\\n",
       "8608 2022-12-01  London        248.0         3101083.0          41.0   \n",
       "8609 2022-11-30  London        248.0         3101083.0           0.0   \n",
       "8610 2022-11-29  London        453.0         3100835.0           0.0   \n",
       "8611 2022-11-28  London        469.0         3100382.0           0.0   \n",
       "8612 2022-11-27  London        377.0         3099913.0           0.0   \n",
       "...         ...     ...          ...               ...           ...   \n",
       "9636 2020-02-07  London          0.0               1.0           NaN   \n",
       "9637 2020-02-06  London          0.0               1.0           NaN   \n",
       "9638 2020-02-05  London          0.0               1.0           NaN   \n",
       "9639 2020-02-04  London          0.0               1.0           NaN   \n",
       "9640 2020-02-03  London          1.0               1.0           NaN   \n",
       "\n",
       "      cumulative_deaths  cumulative_vaccinated  \\\n",
       "8608            21822.0              6090340.0   \n",
       "8609            21781.0              6090340.0   \n",
       "8610            21781.0              6090184.0   \n",
       "8611            21781.0              6090018.0   \n",
       "8612            21781.0              6089862.0   \n",
       "...                 ...                    ...   \n",
       "9636                NaN                    NaN   \n",
       "9637                NaN                    NaN   \n",
       "9638                NaN                    NaN   \n",
       "9639                NaN                    NaN   \n",
       "9640                NaN                    NaN   \n",
       "\n",
       "                                        vaccination_age  \n",
       "8608  [{'age': '05_11', 'VaccineRegisterPopulationBy...  \n",
       "8609  [{'age': '05_11', 'VaccineRegisterPopulationBy...  \n",
       "8610  [{'age': '05_11', 'VaccineRegisterPopulationBy...  \n",
       "8611  [{'age': '05_11', 'VaccineRegisterPopulationBy...  \n",
       "8612  [{'age': '05_11', 'VaccineRegisterPopulationBy...  \n",
       "...                                                 ...  \n",
       "9636                                                NaN  \n",
       "9637                                                NaN  \n",
       "9638                                                NaN  \n",
       "9639                                                NaN  \n",
       "9640                                                NaN  \n",
       "\n",
       "[1033 rows x 8 columns]"
      ]
     },
     "execution_count": 52,
     "metadata": {},
     "output_type": "execute_result"
    }
   ],
   "source": [
    "# covid_data[covid_data['cumulative_deaths'].isnull() == True]\n",
    "covid_data[covid_data[\"area\"] == \"London\"].fillna(method='bfill')\n",
    "# covid_data['date']\n",
    "# print(covid_data['cumulative_deaths'])\n",
    "# print(covid_data['cumulative_deaths'].fillna(method='ffill'))\n",
    "\n"
   ]
  },
  {
   "cell_type": "markdown",
   "metadata": {},
   "source": [
    "### Task 10"
   ]
  },
  {
   "cell_type": "code",
   "execution_count": null,
   "metadata": {},
   "outputs": [],
   "source": []
  },
  {
   "cell_type": "markdown",
   "metadata": {},
   "source": [
    "### Task 11"
   ]
  },
  {
   "cell_type": "code",
   "execution_count": null,
   "metadata": {},
   "outputs": [],
   "source": []
  },
  {
   "cell_type": "markdown",
   "metadata": {},
   "source": [
    "### Task 12"
   ]
  },
  {
   "cell_type": "code",
   "execution_count": null,
   "metadata": {},
   "outputs": [],
   "source": []
  },
  {
   "cell_type": "markdown",
   "metadata": {},
   "source": [
    "### Task 13"
   ]
  },
  {
   "cell_type": "code",
   "execution_count": null,
   "metadata": {},
   "outputs": [],
   "source": []
  },
  {
   "cell_type": "markdown",
   "metadata": {},
   "source": [
    "### Task 14"
   ]
  },
  {
   "cell_type": "code",
   "execution_count": null,
   "metadata": {},
   "outputs": [],
   "source": []
  },
  {
   "cell_type": "markdown",
   "metadata": {},
   "source": [
    "## 1.3 Sub-activity: Aggregating, plotting, and analysing"
   ]
  },
  {
   "cell_type": "markdown",
   "metadata": {},
   "source": [
    "### Task 15"
   ]
  },
  {
   "cell_type": "code",
   "execution_count": null,
   "metadata": {},
   "outputs": [],
   "source": []
  },
  {
   "cell_type": "markdown",
   "metadata": {},
   "source": [
    "### Task 16"
   ]
  },
  {
   "cell_type": "code",
   "execution_count": null,
   "metadata": {},
   "outputs": [],
   "source": []
  },
  {
   "cell_type": "markdown",
   "metadata": {},
   "source": [
    "### Task 17"
   ]
  },
  {
   "cell_type": "code",
   "execution_count": null,
   "metadata": {},
   "outputs": [],
   "source": []
  },
  {
   "cell_type": "markdown",
   "metadata": {},
   "source": [
    "### Task 18"
   ]
  },
  {
   "cell_type": "code",
   "execution_count": null,
   "metadata": {},
   "outputs": [],
   "source": []
  },
  {
   "cell_type": "markdown",
   "metadata": {},
   "source": [
    "### Task 19"
   ]
  },
  {
   "cell_type": "code",
   "execution_count": null,
   "metadata": {},
   "outputs": [],
   "source": []
  },
  {
   "cell_type": "markdown",
   "metadata": {},
   "source": [
    "### Task 20"
   ]
  },
  {
   "cell_type": "code",
   "execution_count": null,
   "metadata": {},
   "outputs": [],
   "source": []
  },
  {
   "cell_type": "markdown",
   "metadata": {},
   "source": [
    "### Task 21"
   ]
  },
  {
   "cell_type": "code",
   "execution_count": null,
   "metadata": {},
   "outputs": [],
   "source": []
  },
  {
   "cell_type": "markdown",
   "metadata": {},
   "source": [
    "### Task 22"
   ]
  },
  {
   "cell_type": "code",
   "execution_count": null,
   "metadata": {},
   "outputs": [],
   "source": []
  },
  {
   "cell_type": "markdown",
   "metadata": {},
   "source": [
    "### Task 23"
   ]
  },
  {
   "cell_type": "code",
   "execution_count": null,
   "metadata": {},
   "outputs": [],
   "source": []
  },
  {
   "cell_type": "markdown",
   "metadata": {},
   "source": [
    "### Task 24"
   ]
  },
  {
   "cell_type": "code",
   "execution_count": null,
   "metadata": {},
   "outputs": [],
   "source": []
  },
  {
   "cell_type": "markdown",
   "metadata": {},
   "source": [
    "### Task 25"
   ]
  },
  {
   "cell_type": "code",
   "execution_count": null,
   "metadata": {},
   "outputs": [],
   "source": []
  },
  {
   "cell_type": "markdown",
   "metadata": {},
   "source": [
    "### Task 26"
   ]
  },
  {
   "cell_type": "code",
   "execution_count": null,
   "metadata": {},
   "outputs": [],
   "source": []
  },
  {
   "cell_type": "markdown",
   "metadata": {},
   "source": [
    "### Task 27"
   ]
  },
  {
   "cell_type": "code",
   "execution_count": null,
   "metadata": {},
   "outputs": [],
   "source": []
  },
  {
   "cell_type": "markdown",
   "metadata": {},
   "source": [
    "### Task 28"
   ]
  },
  {
   "cell_type": "code",
   "execution_count": null,
   "metadata": {},
   "outputs": [],
   "source": []
  }
 ],
 "metadata": {
  "kernelspec": {
   "display_name": "Python 3.9.13 ('base')",
   "language": "python",
   "name": "python3"
  },
  "language_info": {
   "codemirror_mode": {
    "name": "ipython",
    "version": 3
   },
   "file_extension": ".py",
   "mimetype": "text/x-python",
   "name": "python",
   "nbconvert_exporter": "python",
   "pygments_lexer": "ipython3",
   "version": "3.9.13"
  },
  "orig_nbformat": 4,
  "vscode": {
   "interpreter": {
    "hash": "40d3a090f54c6569ab1632332b64b2c03c39dcf918b08424e98f38b5ae0af88f"
   }
  }
 },
 "nbformat": 4,
 "nbformat_minor": 2
}

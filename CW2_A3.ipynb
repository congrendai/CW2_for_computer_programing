{
 "cells": [
  {
   "cell_type": "markdown",
   "metadata": {},
   "source": [
    "# Imports"
   ]
  },
  {
   "cell_type": "code",
   "execution_count": 9,
   "metadata": {},
   "outputs": [],
   "source": [
    "import nltk\n",
    "import requests\n",
    "import numpy as np\n",
    "import pandas as pd"
   ]
  },
  {
   "cell_type": "markdown",
   "metadata": {},
   "source": [
    "# Activity 3"
   ]
  },
  {
   "cell_type": "markdown",
   "metadata": {},
   "source": [
    "## 3.1 Sub-activity: Loading and pre-processing of text data"
   ]
  },
  {
   "cell_type": "code",
   "execution_count": 10,
   "metadata": {},
   "outputs": [],
   "source": [
    "# Global variables\n",
    "\n",
    "WIKIDATA_API_ENDPOINT = \"https://www.wikidata.org/w/api.php\"\n",
    "\n",
    "PARAMS = {\n",
    "        \"format\":\"json\",\n",
    "        \"formatversion\": \"2\",\n",
    "        \"sitefilter\": \"enwiki\"\n",
    "    }"
   ]
  },
  {
   "cell_type": "markdown",
   "metadata": {},
   "source": [
    "### Task 1"
   ]
  },
  {
   "cell_type": "code",
   "execution_count": 11,
   "metadata": {},
   "outputs": [],
   "source": [
    "def get_turing_award_recipients():\n",
    "    \n",
    "    wikidata_ID_params = {\n",
    "    \"action\":\"query\",\n",
    "    \"format\":\"json\",\n",
    "    \"list\":\"search\",\n",
    "    \"srprop\":\"sectiontitle\",\n",
    "    \"srsearch\": \"haswbstatement:P166=Q185667\",\n",
    "    \"formatversion\": \"2\",\n",
    "    \"srlimit\":100\n",
    "    }\n",
    "\n",
    "    wikidata_ID_response = requests.get(WIKIDATA_API_ENDPOINT, params = wikidata_ID_params)\n",
    "    wikidata_ID_data = wikidata_ID_response.json()    \n",
    "    wikidata_IDs = [entity_ID[\"title\"] for entity_ID in wikidata_ID_data['query']['search']]\n",
    "\n",
    "    return wikidata_IDs"
   ]
  },
  {
   "cell_type": "code",
   "execution_count": 12,
   "metadata": {},
   "outputs": [],
   "source": [
    "wikidata_IDs = get_turing_award_recipients()"
   ]
  },
  {
   "cell_type": "markdown",
   "metadata": {},
   "source": [
    "### Task 2"
   ]
  },
  {
   "cell_type": "code",
   "execution_count": 13,
   "metadata": {},
   "outputs": [
    {
     "name": "stdout",
     "output_type": "stream",
     "text": [
      "['Q80', 'Q3572699', 'Q92894', 'Q17457', 'Q92612', 'Q92638', 'Q92743', 'Q92824', 'Q181529', 'Q204815', 'Q578036', 'Q92794', 'Q92739', 'Q49823', 'Q92602', 'Q3571662', 'Q92626', 'Q92758', 'Q16080922', 'Q62870', 'Q8556', 'Q92604', 'Q357965', 'Q11609', 'Q92609', 'Q439245', 'Q92670', 'Q92819', 'Q92851', 'Q92613', 'Q62874', 'Q92854', 'Q92628', 'Q7143512', 'Q62861', 'Q320624', 'Q45575', 'Q1107006', 'Q92614', 'Q62888', 'Q93080', 'Q476466', 'Q92820', 'Q92649', 'Q62898', 'Q92641', 'Q92742', 'Q93154', 'Q62843', 'Q92643', 'Q92823', 'Q462089', 'Q62866', 'Q92629', 'Q92618', 'Q92822', 'Q92596', 'Q92746', 'Q918650', 'Q62857', 'Q92619', 'Q92821', 'Q62877', 'Q92782', 'Q92632', 'Q93161', 'Q92744', 'Q92606', 'Q92781', 'Q9602', 'Q92625', 'Q62894', 'Q92644', 'Q92745', 'Q92828']\n"
     ]
    }
   ],
   "source": [
    "print(wikidata_IDs)"
   ]
  },
  {
   "cell_type": "code",
   "execution_count": 14,
   "metadata": {},
   "outputs": [],
   "source": [
    "def get_wikipedia_content(wikidata_ID):\n",
    "    wikipedia_API_endpoint = \"https://en.wikipedia.org/w/api.php\"\n",
    "\n",
    "    WIKIDATA_GET_CONTENT_PARAMS = {\n",
    "        \"action\":\"wbgetentities\",\n",
    "        \"format\":\"json\",\n",
    "        \"ids\": wikidata_ID,\n",
    "        \"formatversion\": \"2\",\n",
    "        \"sitefilter\": \"enwiki\"\n",
    "    }\n",
    "    \n",
    "    wikidata_response = requests.get(WIKIDATA_API_ENDPOINT, params = WIKIDATA_GET_CONTENT_PARAMS).json()\n",
    "    wikidata_response_data = wikidata_response.json()\n",
    "\n",
    "    # To extract content from the wikipidia page, we have to use titles gained the wikidata IDs, since the titles of wikipedia pages are unique.\n",
    "    wikidata_title = wikidata_response_data['entities'][wikidata_ID]['sitelinks']['enwiki']['title']\n",
    "\n",
    "    wikipedia_content_params = {\n",
    "        \"action\": \"query\",\n",
    "        \"format\": \"json\",\n",
    "        \"prop\": \"extracts\",\n",
    "        \"titles\": wikidata_title,\n",
    "        \"formatversion\": \"2\",\n",
    "        \"explaintext\": 1,\n",
    "        \"exsectionformat\": \"wiki\"\n",
    "    }\n",
    "\n",
    "    wikipedia_content_response = requests.get(wikipedia_API_endpoint, params = wikipedia_content_params)\n",
    "    wikipedia_content_data = wikipedia_content_response.json()\n",
    "    wikipedia_content = wikipedia_content_data['query']['pages'][0]['extract']\n",
    "    return wikipedia_content\n"
   ]
  },
  {
   "cell_type": "markdown",
   "metadata": {},
   "source": [
    "### Task 3"
   ]
  },
  {
   "cell_type": "code",
   "execution_count": 15,
   "metadata": {},
   "outputs": [],
   "source": [
    "def get_award_winners_info(wikidata_ID):\n",
    "    award_winners = {}\n",
    "    wikidata_title_params = {\n",
    "        \"action\":\"wbgetentities\",\n",
    "        \"format\":\"json\",\n",
    "        \"ids\": wikidata_ID,\n",
    "        \"props\": \"labels|claims\",\n",
    "        \"formatversion\": \"2\",\n",
    "        \"sitefilter\": \"enwiki\"\n",
    "    }\n",
    "    wikidata_title_response = requests.get(WIKIDATA_API_ENDPOINT, params = wikidata_title_params)\n",
    "    wikidata_title_data = wikidata_title_response.json()\n",
    "\n",
    "    # Extract name \n",
    "    wikidata_name = wikidata_title_data['entities'][wikidata_ID]['labels']['en']['value']\n",
    "    award_winners[\"name\"] = wikidata_name\n",
    "\n",
    "    # Extract gender ID to get gender from \"sex or gender (P21)\"\n",
    "    wikidata_gender_id = wikidata_title_data['entities'][wikidata_ID]['claims']['P21'][0]['mainsnak']['datavalue']['value']['id']\n",
    "\n",
    "    # Get birth date from \"date of birth (P569)\"\n",
    "    try:\n",
    "        wikidata_birth_date = wikidata_title_data['entities'][wikidata_ID]['claims']['P569'][0]['mainsnak']['datavalue']['value']['time']\n",
    "    except:\n",
    "        wikidata_birth_date = np.nan\n",
    "\n",
    "    # Extract birth place ID to get birth place from \"place of birth (P19)\"\n",
    "    try:\n",
    "        wikidata_birth_place = wikidata_title_data['entities'][wikidata_ID]['claims']['P19'][0]['mainsnak']['datavalue']['value']['id']\n",
    "    except:\n",
    "        wikidata_birth_place = np.nan\n",
    "\n",
    "    # Extract employer ID to get employer from \"employer (P108)\"\n",
    "    # employer ID is inside of \"mainsnak\" key\n",
    "    try:\n",
    "        wikidata_employer_mainsnaks = wikidata_title_data['entities'][wikidata_ID]['claims']['P108']\n",
    "    except:\n",
    "        wikidata_employers_IDs = np.nan\n",
    "    else:\n",
    "        wikidata_employers_IDs = [wikidata_employer_ID['mainsnak']['datavalue']['value']['id'] for wikidata_employer_ID in wikidata_employer_mainsnaks]\n",
    "\n",
    "    try:\n",
    "        wikidata_educated_at_mainsnaks = wikidata_title_data['entities'][wikidata_ID]['claims']['P69']\n",
    "    except:\n",
    "        wikidata_educated_at_IDs = np.nan\n",
    "    else:\n",
    "        wikidata_educated_at_IDs = [wikidata_educated_at_ID['mainsnak']['datavalue']['value']['id'] for wikidata_educated_at_ID in wikidata_educated_at_mainsnaks]\n",
    "\n",
    "    return wikidata_name, wikidata_gender_id, wikidata_birth_date, wikidata_birth_place, wikidata_employers_IDs, wikidata_educated_at_IDs\n",
    "\n",
    "# award_winners = {}"
   ]
  },
  {
   "cell_type": "code",
   "execution_count": 16,
   "metadata": {},
   "outputs": [
    {
     "name": "stdout",
     "output_type": "stream",
     "text": [
      "('Tim Berners-Lee', 'Q6581097', '+1955-06-08T00:00:00Z', 'Q84', ['Q37033', 'Q7432436', 'Q49108', 'Q7204713', 'Q42944', 'Q42944', 'Q7095994'], ['Q73094', 'Q5369138'])\n",
      "('Yoshua Bengio', 'Q6581097', '+1964-03-05T00:00:00Z', 'Q90', ['Q392189'], ['Q201492', 'Q201492', 'Q201492', 'Q49108'])\n",
      "('Geoffrey Hinton', 'Q6581097', '+1947-12-06T00:00:00Z', 'Q736742', ['Q180865', 'Q95', 'Q190080'], ['Q160302'])\n",
      "('Donald Knuth', 'Q6581097', '+1938-01-10T00:00:00Z', 'Q37836', ['Q41506', 'Q256593', 'Q1665138', 'Q161562'], ['Q1047060', 'Q161562', 'Q6861763'])\n",
      "('Richard M. Karp', 'Q6581097', '+1935-01-03T00:00:00Z', 'Q100', ['Q168756', 'Q219563'], ['Q13371', 'Q5676553', 'Q168756'])\n",
      "('Robert Tarjan', 'Q6581097', '+1948-04-30T00:00:00Z', 'Q486868', ['Q21578', 'Q49108', 'Q49210', 'Q49115', 'Q168756', 'Q41506', 'Q217365', 'Q80978'], ['Q161562', 'Q41506'])\n",
      "('Vint Cerf', 'Q6581097', '+1943-06-23T00:00:00Z', 'Q49145', ['Q95', 'Q37156', 'Q41506', 'Q207361'], ['Q41506', 'Q174710', 'Q174710', 'Q4008476'])\n",
      "('Judea Pearl', 'Q6581097', '+1936-09-04T00:00:00Z', 'Q33935', ['Q174710'], ['Q499451', 'Q75478', 'Q333705', 'Q174710', 'Q75478'])\n",
      "('Herbert Simon', 'Q6581097', '+1916-06-15T00:00:00Z', 'Q37836', ['Q190080', 'Q659706'], ['Q131252'])\n",
      "('Marvin Minsky', 'Q6581097', '+1927-08-09T00:00:00Z', 'Q60', ['Q49108'], ['Q13371', 'Q21578', 'Q5403378', 'Q1432645', 'Q751612', 'Q49123'])\n",
      "('Ron Rivest', 'Q6581097', '+1947-05-06T00:00:00Z', 'Q331380', ['Q49108'], ['Q41506', 'Q49112', 'Q7040850', 'Q7807166'])\n",
      "('Jeffrey David Ullman', 'Q6581097', '+1942-11-22T00:00:00Z', 'Q60', ['Q41506'], ['Q21578', 'Q49088', 'Q5149833'])\n",
      "('John McCarthy', 'Q6581097', '+1927-09-04T00:00:00Z', 'Q100', ['Q21578', 'Q49108', 'Q41506'], ['Q161562', 'Q21578', 'Q4884367'])\n",
      "('Dana Scott', 'Q6581097', '+1932-10-11T00:00:00Z', 'Q484678', ['Q168756', 'Q131252', 'Q190080', 'Q682739'], ['Q21578', 'Q168756'])\n",
      "('Tony Hoare', 'Q6581097', '+1934-01-11T00:00:00Z', 'Q35381', ['Q2283', 'Q34433', 'Q877925'], ['Q13164', 'Q82513', 'Q34433', 'Q610999'])\n",
      "('Yann LeCun', 'Q6581097', '+1960-07-08T00:00:00Z', 'Q90', ['Q380', 'Q49210', 'Q217365', 'Q202660', 'Q75478'], ['Q3046118', 'Q1144549', 'Q180865', 'Q41497113'])\n",
      "('Manuel Blum', 'Q6581097', '+1938-04-26T00:00:00Z', 'Q1533', ['Q168756', 'Q190080'], ['Q49108'])\n",
      "('Michael Stonebraker', 'Q6581097', '+1943-10-11T00:00:00Z', 'Q612201', ['Q168756'], ['Q21578', 'Q230492', 'Q7737405'])\n",
      "('Barbara Liskov', 'Q6581072', '+1939-11-07T00:00:00Z', 'Q65', ['Q49108'], ['Q41506', 'Q168756'])\n",
      "('Stephen Cook', 'Q6581097', '+1939-12-14T00:00:00Z', 'Q40435', ['Q180865', 'Q168756'], ['Q13371', 'Q230492'])\n",
      "('Edsger W. Dijkstra', 'Q6581097', '+1930-05-11T00:00:00Z', 'Q34370', ['Q49213', 'Q280824', 'Q1054410', 'Q256593', 'Q632004'], ['Q156598', 'Q2936361', 'Q214341', 'Q49213', 'Q35794'])\n",
      "('Niklaus Wirth', 'Q6581097', '+1934-02-15T00:00:00Z', 'Q9125', ['Q750428', 'Q206702', 'Q11942'], ['Q11942', 'Q1067935', 'Q168756'])\n",
      "('Michael O. Rabin', 'Q6581097', '+1931-09-01T00:00:00Z', 'Q1799', ['Q13371', 'Q49088', 'Q168756', 'Q49108', 'Q49210', 'Q161562', 'Q333705', 'Q11942'], ['Q174158', 'Q2911112', 'Q21578'])\n",
      "('Shafrira Goldwasser', 'Q6581072', '+1958-11-14T00:00:00Z', 'Q60', ['Q49108', 'Q4182'], ['Q190080', 'Q168756'])\n",
      "('Fred Brooks', 'Q6581097', '+1931-04-19T00:00:00Z', 'Q49229', ['Q37156', 'Q192334'], ['Q13371', 'Q168751', 'Q5676553'])\n",
      "('Allen Newell', 'Q6581097', '+1927-03-19T00:00:00Z', 'Q62', ['Q190080', 'Q861141'], ['Q41506', 'Q190080', 'Q21578', 'Q7701381', 'Q6693219'])\n",
      "('Jack Dongarra', 'Q6581097', '+1950-07-18T00:00:00Z', 'Q1297', ['Q230899', 'Q1150105', 'Q842909', 'Q649120'], ['Q659706', 'Q1190812', 'Q915866'])\n",
      "('Edmund M. Clarke', 'Q6581097', '+1945-07-27T00:00:00Z', 'Q335017', ['Q168751', 'Q13371', 'Q49115', 'Q190080'], ['Q213439', 'Q168751', 'Q49115'])\n",
      "('David A. Patterson', 'Q6581097', '+1947-11-16T00:00:00Z', 'Q391071', ['Q168756'], ['Q174710', 'Q7567465'])\n",
      "('Leslie Lamport', 'Q6581097', '+1941-02-07T00:00:00Z', 'Q60', ['Q627039', 'Q690079', 'Q604924', 'Q1144725'], ['Q49108', 'Q49119', 'Q751612'])\n",
      "('John Edward Hopcroft', 'Q6581097', '+1939-10-07T00:00:00Z', 'Q5083', ['Q49115', 'Q615873'], ['Q41506', 'Q615873'])\n",
      "('John L. Hennessy', 'Q6581097', '+1952-09-22T00:00:00Z', 'Q999123', ['Q41506'], ['Q969850', 'Q1466001'])\n",
      "('Juris Hartmanis', 'Q6581097', '+1928-07-05T00:00:00Z', 'Q1773', ['Q49115', 'Q54173', 'Q309331', 'Q49115'], ['Q161562', 'Q49108', 'Q155354', 'Q940690'])\n",
      "('Pat Hanrahan', 'Q6581097', '+1954-00-00T00:00:00Z', nan, ['Q41506'], ['Q838330'])\n",
      "('Alan Perlis', 'Q6581097', '+1922-04-01T00:00:00Z', 'Q1342', ['Q49112', 'Q190080', 'Q217741', 'Q11220', 'Q49108'], ['Q190080', 'Q49108', 'Q49108', 'Q7689864'])\n",
      "('Adi Shamir', 'Q6581097', '+1952-07-06T00:00:00Z', 'Q33935', ['Q49108', 'Q319239'], ['Q319239', 'Q865528', 'Q4182'])\n",
      "('Dennis M. Ritchie', 'Q6581097', '+1941-09-09T00:00:00Z', 'Q928168', ['Q217365'], ['Q13371', 'Q13371', 'Q7637813'])\n",
      "('Ken Thompson', 'Q6581097', '+1943-02-04T00:00:00Z', 'Q34404', ['Q217365', 'Q95'], ['Q168756', 'Q168756'])\n",
      "('Douglas Engelbart', 'Q6581097', '+1925-01-30T00:00:00Z', 'Q6106', ['Q168756', 'Q7860427', 'Q201815', 'Q604924', 'Q181052'], ['Q168756', 'Q861888', 'Q168756', 'Q766145', 'Q14708839'])\n",
      "('Andrew Yao', 'Q6581097', '+1946-12-24T00:00:00Z', 'Q8686', ['Q21578', 'Q168756', 'Q41506', 'Q16955', 'Q622664'], ['Q13371', 'Q32746', 'Q457281', 'Q697974'])\n",
      "('Silvio Micali', 'Q6581097', '+1954-10-13T00:00:00Z', 'Q2656', ['Q49108'], ['Q168756', 'Q209344'])\n",
      "('Martin Edward Hellman', 'Q6581097', '+1945-10-02T00:00:00Z', 'Q60', ['Q49108', 'Q37156', 'Q41506'], ['Q49210', 'Q41506', 'Q75478', 'Q751612'])\n",
      "('Raj Reddy', 'Q6581097', '+1937-06-13T00:00:00Z', 'Q109156875', ['Q190080', 'Q41506'], ['Q41506', 'Q734764', 'Q109156390'])\n",
      "('Amir Pnueli', 'Q6581097', '+1941-04-22T00:00:00Z', 'Q1724338', ['Q49210', 'Q319239', 'Q75478'], ['Q333705', 'Q4182'])\n",
      "('Alfred Aho', 'Q6581097', '+1941-08-09T00:00:00Z', 'Q991310', ['Q49088'], ['Q180865', 'Q21578'])\n",
      "('Robert W. Floyd', 'Q6581097', '+1936-06-08T00:00:00Z', 'Q60', ['Q190080', 'Q41506'], ['Q131252'])\n",
      "('Alan Kay', 'Q6581097', '+1940-05-17T00:00:00Z', 'Q49158', ['Q174710', 'Q49108', 'Q750428', 'Q336264'], ['Q168515', 'Q736674', 'Q1206658'])\n",
      "('Leslie Valiant', 'Q6581097', '+1949-03-28T00:00:00Z', 'Q1781', ['Q13371', 'Q503424', 'Q160302', 'Q190080'], ['Q189022', 'Q865528', 'Q924289'])\n",
      "('Bob Kahn', 'Q6581097', '+1938-12-23T00:00:00Z', 'Q60', ['Q49108'], ['Q1093910', 'Q21578', 'Q21578'])\n",
      "('Robin Milner', 'Q6581097', '+1934-01-13T00:00:00Z', 'Q43382', ['Q1094046', 'Q41506', 'Q160302', 'Q1420500'], ['Q192088', 'Q924289'])\n",
      "('Edward Feigenbaum', 'Q6581097', '+1936-01-20T00:00:00Z', 'Q176410', ['Q41506'], ['Q190080', 'Q7979377'])\n",
      "('Whitfield Diffie', 'Q6581097', '+1944-06-05T00:00:00Z', 'Q60', ['Q170027'], ['Q49108', 'Q41506', 'Q14706609'])\n",
      "('Ivan Sutherland', 'Q6581097', '+1938-05-16T00:00:00Z', 'Q959512', ['Q13371', 'Q168515', 'Q161562', 'Q14647'], ['Q49108', 'Q161562', 'Q190080', 'Q14707276'])\n",
      "('Kenneth E. Iverson', 'Q6581097', '+1920-12-17T00:00:00Z', 'Q775610', ['Q37156', 'Q13371'], ['Q13371', 'Q1420038', 'Q5676553'])\n",
      "('Peter Naur', 'Q6581097', '+1928-10-25T00:00:00Z', 'Q30096', ['Q186285', 'Q1269766', 'Q928216'], ['Q186285'])\n",
      "('Richard E. Stearns', 'Q6581097', '+1936-07-05T00:00:00Z', 'Q717516', ['Q1780816', 'Q49210', 'Q54173'], ['Q21578', 'Q1041671'])\n",
      "('Edgar F. Codd', 'Q6581097', '+1923-08-19T00:00:00Z', 'Q774215', ['Q37156'], ['Q81173', 'Q230492', 'Q7228615'])\n",
      "('John Backus', 'Q6581097', '+1924-12-03T00:00:00Z', 'Q1345', ['Q37156'], ['Q49088', 'Q213439'])\n",
      "('Leonard Adleman', 'Q6581097', '+1945-12-31T00:00:00Z', 'Q99', ['Q4614', 'Q49108'], ['Q5796845', 'Q168756'])\n",
      "('Maurice Wilkes', 'Q6581097', '+1913-06-26T00:00:00Z', 'Q213832', ['Q690079', 'Q35794', 'Q49108', 'Q673267'], ['Q691283', 'Q6411521', 'Q35794'])\n",
      "('Richard Hamming', 'Q6581097', '+1915-02-11T00:00:00Z', 'Q1297', ['Q217365', 'Q1317143', 'Q1515048', 'Q127050', 'Q1145814'], ['Q131252', 'Q457281', 'Q1353679', 'Q5182021'])\n",
      "('E. Allen Emerson', 'Q6581097', '+1954-06-02T00:00:00Z', 'Q16557', ['Q49213'], ['Q13371', 'Q49213', 'Q5676553'])\n",
      "('James H. Wilkinson', 'Q6581097', '+1919-09-27T00:00:00Z', 'Q1808441', ['Q1967606', 'Q41506'], ['Q332342', 'Q7528204'])\n",
      "('William Kahan', 'Q6581097', '+1933-06-05T00:00:00Z', 'Q172', ['Q168756'], ['Q180865'])\n",
      "('John Cocke', 'Q6581097', '+1925-05-30T00:00:00Z', 'Q16565', ['Q37156', 'Q49108', 'Q49210'], ['Q168751'])\n",
      "('Edwin Catmull', 'Q6581097', '+1945-03-31T00:00:00Z', 'Q329485', ['Q4781517', 'Q1709596', 'Q746676', 'Q127552', 'Q1047410'], ['Q168515', 'Q5595867'])\n",
      "('Kristen Nygaard', 'Q6581097', '+1926-08-27T00:00:00Z', 'Q585', ['Q486156'], ['Q486156'])\n",
      "('Jim Gray', 'Q6581097', '+1944-01-12T00:00:00Z', 'Q62', ['Q2283', 'Q690079', 'Q217365', 'Q37156'], ['Q168756', 'Q946028', 'Q168756'])\n",
      "('Iosif Sifakis', 'Q6581097', '+1946-12-26T00:00:00Z', 'Q160544', ['Q280413', 'Q262760'], ['Q1640726'])\n",
      "('Frances E. Allen', 'Q6581072', '+1932-08-04T00:00:00Z', 'Q170254', ['Q37156', 'Q168756', 'Q49210', 'Q622664'], ['Q1780816', 'Q230492'])\n",
      "('Fernando J. Corbató', 'Q6581097', '+1926-07-01T00:00:00Z', 'Q17042', ['Q49108'], ['Q161562', 'Q49108'])\n",
      "('Charles Bachman', 'Q6581097', '+1924-12-11T00:00:00Z', 'Q856841', ['Q855639', 'Q54173', 'Q898208', 'Q5193036'], ['Q270222', 'Q49117', 'Q1329269', 'Q7896095', 'Q5328806'])\n",
      "('Butler Lampson', 'Q6581097', '+1943-12-23T00:00:00Z', 'Q61', ['Q750428', 'Q49108', 'Q690079', 'Q2283'], ['Q13371', 'Q168756'])\n",
      "('Ole-Johan Dahl', 'Q6581097', '+1931-10-12T00:00:00Z', 'Q108966', ['Q486156'], ['Q486156'])\n",
      "('Charles P. Thacker', 'Q6581097', '+1943-02-26T00:00:00Z', 'Q485176', ['Q750428', 'Q690079'], ['Q168756'])\n"
     ]
    }
   ],
   "source": [
    "for wikidata_ID in wikidata_IDs:\n",
    "    a = get_award_winners_info(wikidata_ID)\n",
    "    print(a)"
   ]
  },
  {
   "cell_type": "markdown",
   "metadata": {},
   "source": [
    "### Task 4"
   ]
  },
  {
   "cell_type": "code",
   "execution_count": null,
   "metadata": {},
   "outputs": [],
   "source": []
  },
  {
   "cell_type": "markdown",
   "metadata": {},
   "source": [
    "### Task 5"
   ]
  },
  {
   "cell_type": "code",
   "execution_count": null,
   "metadata": {},
   "outputs": [],
   "source": []
  },
  {
   "cell_type": "markdown",
   "metadata": {},
   "source": [
    "## 3.2 Sub-activity: Applying NLP operations on the corpus"
   ]
  },
  {
   "cell_type": "markdown",
   "metadata": {},
   "source": [
    "### 3.2.1 Stemming"
   ]
  },
  {
   "cell_type": "markdown",
   "metadata": {},
   "source": [
    "### Task 3"
   ]
  },
  {
   "cell_type": "code",
   "execution_count": null,
   "metadata": {},
   "outputs": [],
   "source": []
  },
  {
   "cell_type": "markdown",
   "metadata": {},
   "source": [
    "### Task 4"
   ]
  },
  {
   "cell_type": "code",
   "execution_count": null,
   "metadata": {},
   "outputs": [],
   "source": []
  },
  {
   "cell_type": "markdown",
   "metadata": {},
   "source": [
    "### 3.2.2 Lemmatization"
   ]
  },
  {
   "cell_type": "markdown",
   "metadata": {},
   "source": [
    "### Task 5"
   ]
  },
  {
   "cell_type": "code",
   "execution_count": null,
   "metadata": {},
   "outputs": [],
   "source": []
  },
  {
   "cell_type": "markdown",
   "metadata": {},
   "source": [
    "### 3.2.3 Finding synonyms and antonyms"
   ]
  },
  {
   "cell_type": "markdown",
   "metadata": {},
   "source": [
    "### Task 6"
   ]
  },
  {
   "cell_type": "code",
   "execution_count": null,
   "metadata": {},
   "outputs": [],
   "source": []
  },
  {
   "cell_type": "markdown",
   "metadata": {},
   "source": [
    "### 3.2.4 Bigrams and trigrams"
   ]
  },
  {
   "cell_type": "markdown",
   "metadata": {},
   "source": [
    "### Task 7"
   ]
  },
  {
   "cell_type": "code",
   "execution_count": null,
   "metadata": {},
   "outputs": [],
   "source": []
  },
  {
   "cell_type": "markdown",
   "metadata": {},
   "source": [
    "### Task 8"
   ]
  },
  {
   "cell_type": "code",
   "execution_count": null,
   "metadata": {},
   "outputs": [],
   "source": []
  },
  {
   "cell_type": "markdown",
   "metadata": {},
   "source": [
    "### Task 9"
   ]
  },
  {
   "cell_type": "code",
   "execution_count": null,
   "metadata": {},
   "outputs": [],
   "source": []
  },
  {
   "cell_type": "markdown",
   "metadata": {},
   "source": [
    "### Task 10"
   ]
  },
  {
   "cell_type": "code",
   "execution_count": null,
   "metadata": {},
   "outputs": [],
   "source": []
  },
  {
   "cell_type": "markdown",
   "metadata": {},
   "source": [
    "## 3.3 Sub-section: Visualisation"
   ]
  },
  {
   "cell_type": "markdown",
   "metadata": {},
   "source": [
    "### 3.3.1 Barplots"
   ]
  },
  {
   "cell_type": "markdown",
   "metadata": {},
   "source": [
    "### Task 11"
   ]
  },
  {
   "cell_type": "code",
   "execution_count": null,
   "metadata": {},
   "outputs": [],
   "source": []
  },
  {
   "cell_type": "markdown",
   "metadata": {},
   "source": [
    "### Task 12"
   ]
  },
  {
   "cell_type": "code",
   "execution_count": null,
   "metadata": {},
   "outputs": [],
   "source": []
  },
  {
   "cell_type": "markdown",
   "metadata": {},
   "source": [
    "### Task 13"
   ]
  },
  {
   "cell_type": "code",
   "execution_count": null,
   "metadata": {},
   "outputs": [],
   "source": []
  },
  {
   "cell_type": "markdown",
   "metadata": {},
   "source": [
    "### 3.3.2 Heatmap"
   ]
  },
  {
   "cell_type": "markdown",
   "metadata": {},
   "source": [
    "### Task 14"
   ]
  },
  {
   "cell_type": "code",
   "execution_count": null,
   "metadata": {},
   "outputs": [],
   "source": []
  }
 ],
 "metadata": {
  "kernelspec": {
   "display_name": "Python 3.9.13 ('base')",
   "language": "python",
   "name": "python3"
  },
  "language_info": {
   "codemirror_mode": {
    "name": "ipython",
    "version": 3
   },
   "file_extension": ".py",
   "mimetype": "text/x-python",
   "name": "python",
   "nbconvert_exporter": "python",
   "pygments_lexer": "ipython3",
   "version": "3.9.13"
  },
  "orig_nbformat": 4,
  "vscode": {
   "interpreter": {
    "hash": "40d3a090f54c6569ab1632332b64b2c03c39dcf918b08424e98f38b5ae0af88f"
   }
  }
 },
 "nbformat": 4,
 "nbformat_minor": 2
}

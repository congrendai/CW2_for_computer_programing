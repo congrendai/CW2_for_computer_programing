{
 "cells": [
  {
   "cell_type": "markdown",
   "metadata": {},
   "source": [
    "# Imports"
   ]
  },
  {
   "cell_type": "code",
   "execution_count": 111,
   "metadata": {},
   "outputs": [],
   "source": [
    "import nltk\n",
    "import json\n",
    "import requests\n",
    "import numpy as np\n",
    "import pandas as pd"
   ]
  },
  {
   "cell_type": "markdown",
   "metadata": {},
   "source": [
    "# Activity 3"
   ]
  },
  {
   "cell_type": "markdown",
   "metadata": {},
   "source": [
    "## 3.1 Sub-activity: Loading and pre-processing of text data"
   ]
  },
  {
   "cell_type": "code",
   "execution_count": 112,
   "metadata": {},
   "outputs": [],
   "source": [
    "# Global variables\n",
    "\n",
    "WIKIDATA_API_ENDPOINT = \"https://www.wikidata.org/w/api.php\"\n",
    "\n",
    "PARAMS = {\n",
    "        \"format\":\"json\",\n",
    "        \"formatversion\": \"2\",\n",
    "        \"sitefilter\": \"enwiki\"\n",
    "    }"
   ]
  },
  {
   "cell_type": "markdown",
   "metadata": {},
   "source": [
    "### Task 1"
   ]
  },
  {
   "cell_type": "code",
   "execution_count": 113,
   "metadata": {},
   "outputs": [],
   "source": [
    "def get_turing_award_recipients():\n",
    "    \n",
    "    wikidata_ID_params = {\n",
    "    \"action\":\"query\",\n",
    "    \"format\":\"json\",\n",
    "    \"list\":\"search\",\n",
    "    \"srprop\":\"sectiontitle\",\n",
    "    \"srsearch\": \"haswbstatement:P166=Q185667\",\n",
    "    \"formatversion\": \"2\",\n",
    "    \"srlimit\":100\n",
    "    }\n",
    "\n",
    "    wikidata_ID_response = requests.get(WIKIDATA_API_ENDPOINT, params = wikidata_ID_params)\n",
    "    wikidata_ID_data = wikidata_ID_response.json()    \n",
    "    wikidata_IDs = [entity_ID[\"title\"] for entity_ID in wikidata_ID_data[\"query\"][\"search\"]]\n",
    "\n",
    "    return wikidata_IDs"
   ]
  },
  {
   "cell_type": "code",
   "execution_count": 114,
   "metadata": {},
   "outputs": [],
   "source": [
    "wikidata_IDs = get_turing_award_recipients()"
   ]
  },
  {
   "cell_type": "markdown",
   "metadata": {},
   "source": [
    "### Task 2"
   ]
  },
  {
   "cell_type": "code",
   "execution_count": 115,
   "metadata": {},
   "outputs": [
    {
     "name": "stdout",
     "output_type": "stream",
     "text": [
      "['Q80', 'Q3572699', 'Q92894', 'Q17457', 'Q92612', 'Q92638', 'Q92743', 'Q92824', 'Q181529', 'Q204815', 'Q578036', 'Q92794', 'Q92739', 'Q49823', 'Q92602', 'Q3571662', 'Q92626', 'Q92758', 'Q16080922', 'Q62870', 'Q8556', 'Q92604', 'Q357965', 'Q11609', 'Q92609', 'Q439245', 'Q92670', 'Q92819', 'Q92851', 'Q92613', 'Q62874', 'Q92854', 'Q92628', 'Q7143512', 'Q62861', 'Q320624', 'Q45575', 'Q1107006', 'Q92614', 'Q62888', 'Q93080', 'Q476466', 'Q92820', 'Q92649', 'Q62898', 'Q92641', 'Q92742', 'Q93154', 'Q62843', 'Q92643', 'Q92823', 'Q462089', 'Q62866', 'Q92629', 'Q92618', 'Q92822', 'Q92596', 'Q92746', 'Q918650', 'Q62857', 'Q92619', 'Q92821', 'Q62877', 'Q92782', 'Q92632', 'Q93161', 'Q92744', 'Q92606', 'Q92781', 'Q9602', 'Q92625', 'Q62894', 'Q92644', 'Q92745', 'Q92828']\n"
     ]
    }
   ],
   "source": [
    "print(wikidata_IDs)"
   ]
  },
  {
   "cell_type": "code",
   "execution_count": 116,
   "metadata": {},
   "outputs": [],
   "source": [
    "def get_wikipedia_content(wikidata_ID):\n",
    "    wikipedia_API_endpoint = \"https://en.wikipedia.org/w/api.php\"\n",
    "\n",
    "    WIKIDATA_GET_CONTENT_PARAMS = {\n",
    "        \"action\":\"wbgetentities\",\n",
    "        \"format\":\"json\",\n",
    "        \"ids\": wikidata_ID,\n",
    "        \"formatversion\": \"2\",\n",
    "        \"sitefilter\": \"enwiki\"\n",
    "    }\n",
    "    \n",
    "    wikidata_response = requests.get(WIKIDATA_API_ENDPOINT, params = WIKIDATA_GET_CONTENT_PARAMS)\n",
    "    wikidata_response_data = wikidata_response.json()\n",
    "\n",
    "    # To extract content from the wikipidia page, we have to use titles gained the wikidata IDs, since the titles of wikipedia pages are unique.\n",
    "    wikidata_title = wikidata_response_data[\"entities\"][wikidata_ID][\"sitelinks\"][\"enwiki\"][\"title\"]\n",
    "\n",
    "    wikipedia_content_params = {\n",
    "        \"action\": \"query\",\n",
    "        \"format\": \"json\",\n",
    "        \"prop\": \"extracts\",\n",
    "        \"titles\": wikidata_title,\n",
    "        \"formatversion\": \"2\",\n",
    "        \"explaintext\": 1,\n",
    "        \"exsectionformat\": \"wiki\",\n",
    "    }\n",
    "\n",
    "    wikipedia_content_response = requests.get(wikipedia_API_endpoint, params = wikipedia_content_params)\n",
    "    wikipedia_content_data = wikipedia_content_response.json()\n",
    "    wikipedia_content = wikipedia_content_data[\"query\"][\"pages\"][0][\"extract\"]\n",
    "    return wikipedia_content\n"
   ]
  },
  {
   "cell_type": "markdown",
   "metadata": {},
   "source": [
    "### Task 3"
   ]
  },
  {
   "cell_type": "code",
   "execution_count": 119,
   "metadata": {},
   "outputs": [],
   "source": [
    "def get_award_winners_info(wikidata_IDs):\n",
    "    wikidata_names = []\n",
    "    wikipedia_intros = []\n",
    "    wikidata_genders = []\n",
    "    wikidata_birth_dates = []\n",
    "    wikidata_birth_places = []\n",
    "    wikidata_employers = []\n",
    "    wikidata_educated_ats = []\n",
    "\n",
    "    for wikidata_ID in wikidata_IDs:\n",
    "\n",
    "        wikidata_title_params = {\n",
    "            \"action\":\"wbgetentities\",\n",
    "            \"format\":\"json\",\n",
    "            \"ids\": wikidata_ID,\n",
    "            \"props\": \"labels|claims\",\n",
    "            \"formatversion\": \"2\",\n",
    "            \"languages\": \"en\",\n",
    "            \"sitefilter\": \"enwiki\"\n",
    "        }\n",
    "        wikidata_title_response = requests.get(WIKIDATA_API_ENDPOINT, params = wikidata_title_params)\n",
    "        wikidata_title_data = wikidata_title_response.json()\n",
    "\n",
    "        # Extract name\n",
    "        try:\n",
    "            wikidata_name = wikidata_title_data[\"entities\"][wikidata_ID][\"labels\"][\"en\"][\"value\"]\n",
    "            wikidata_names.append(wikidata_name)\n",
    "        except:\n",
    "            wikidata_name = None\n",
    "\n",
    "        # # Extract intro from wikipedia page\n",
    "        # try:\n",
    "        #     wikipedia_content = get_wikipedia_content(wikidata_ID)\n",
    "        #     wikipedia_intro = wikipedia_content.split(\"\\n\")[0]\n",
    "        #     wikipedia_intros.append(wikipedia_intro)\n",
    "        # except:\n",
    "        #     wikipedia_intro = None\n",
    "        \n",
    "        # Extract gender ID to get gender from \"sex or gender (P21)\"\n",
    "        try:\n",
    "            wikidata_gender_id = wikidata_title_data[\"entities\"][wikidata_ID][\"claims\"][\"P21\"][0][\"mainsnak\"][\"datavalue\"][\"value\"][\"id\"]\n",
    "        except:\n",
    "            wikidata_gender_id = None\n",
    "            \n",
    "        # Get birth date from \"date of birth (P569)\"\n",
    "        try:\n",
    "            wikidata_birth_date = wikidata_title_data[\"entities\"][wikidata_ID][\"claims\"][\"P569\"][0][\"mainsnak\"][\"datavalue\"][\"value\"][\"time\"].split(\"T\")[0].split(\"+\")[1]\n",
    "            wikidata_birth_dates.append(wikidata_birth_date)\n",
    "        except:\n",
    "            wikidata_birth_date = None\n",
    "\n",
    "        # Extract birth place ID to get birth place from \"place of birth (P19)\"\n",
    "        try:\n",
    "            wikidata_birth_place = wikidata_title_data[\"entities\"][wikidata_ID][\"claims\"][\"P19\"][0][\"mainsnak\"][\"datavalue\"][\"value\"][\"id\"]\n",
    "        except:\n",
    "            wikidata_birth_place = None\n",
    "\n",
    "        # Extract employer ID to get employer from \"employer (P108)\"\n",
    "        # employer ID is inside of \"mainsnak\" key\n",
    "        try:\n",
    "            wikidata_employer_mainsnaks = wikidata_title_data[\"entities\"][wikidata_ID][\"claims\"][\"P108\"]\n",
    "        except:\n",
    "            wikidata_employers_IDs = None\n",
    "        else:\n",
    "            wikidata_employers_IDs = [wikidata_employer_ID[\"mainsnak\"][\"datavalue\"][\"value\"][\"id\"] for wikidata_employer_ID in wikidata_employer_mainsnaks]\n",
    "\n",
    "        try:\n",
    "            wikidata_educated_at_mainsnaks = wikidata_title_data[\"entities\"][wikidata_ID][\"claims\"][\"P69\"]\n",
    "        except:\n",
    "            wikidata_educated_at_IDs = None\n",
    "        else:\n",
    "            wikidata_educated_at_IDs = [wikidata_educated_at_ID[\"mainsnak\"][\"datavalue\"][\"value\"][\"id\"] for wikidata_educated_at_ID in wikidata_educated_at_mainsnaks]\n",
    "\n",
    "        entity_info_IDs = [wikidata_gender_id, wikidata_birth_place, \"|\".join(wikidata_employers_IDs), \"|\".join(wikidata_educated_at_IDs)]\n",
    "        # print(entity_info_IDs)\n",
    "            \n",
    "    for entity_info_ID in entity_info_IDs:\n",
    "        wikidata_title_params_2 = {\n",
    "            \"action\":\"wbgetentities\",\n",
    "            \"format\":\"json\",\n",
    "            \"ids\": entity_info_ID,\n",
    "            \"props\": \"labels\",\n",
    "            \"formatversion\": \"2\",\n",
    "            \"languages\": \"en\",\n",
    "            \"sitefilter\": \"enwiki\"\n",
    "        }\n",
    "\n",
    "        entity_info_response = requests.get(WIKIDATA_API_ENDPOINT, params = wikidata_title_params_2)\n",
    "        entity_info_data = entity_info_response.json()\n",
    "        entity_IDs = entity_info_ID.split(\"|\")\n",
    "        for entity_ID in entity_IDs:\n",
    "            entity_info = entity_info_data[\"entities\"][entity_ID][\"labels\"][\"en\"][\"value\"]\n",
    "            print(entity_info)\n",
    "\n",
    "    return wikidata_names, wikidata_birth_dates\n",
    "# award_winners = {}"
   ]
  },
  {
   "cell_type": "code",
   "execution_count": 121,
   "metadata": {},
   "outputs": [
    {
     "name": "stdout",
     "output_type": "stream",
     "text": [
      "{'name': ['Tim Berners-Lee', 'Yoshua Bengio', 'Geoffrey Hinton', 'Donald Knuth', 'Richard M. Karp', 'Robert Tarjan', 'Vint Cerf', 'Judea Pearl', 'Herbert Simon', 'Marvin Minsky', 'Ron Rivest', 'Jeffrey David Ullman', 'John McCarthy', 'Dana Scott', 'Tony Hoare', 'Yann LeCun', 'Manuel Blum', 'Michael Stonebraker', 'Barbara Liskov', 'Stephen Cook', 'Edsger W. Dijkstra', 'Niklaus Wirth', 'Michael O. Rabin', 'Shafrira Goldwasser', 'Fred Brooks', 'Allen Newell', 'Jack Dongarra', 'Edmund M. Clarke', 'David A. Patterson', 'Leslie Lamport', 'John Edward Hopcroft', 'John L. Hennessy', 'Juris Hartmanis', 'Pat Hanrahan', 'Alan Perlis', 'Adi Shamir', 'Dennis M. Ritchie', 'Ken Thompson', 'Douglas Engelbart', 'Andrew Yao', 'Silvio Micali', 'Martin Edward Hellman', 'Raj Reddy', 'Amir Pnueli', 'Alfred Aho', 'Robert W. Floyd', 'Alan Kay', 'Leslie Valiant', 'Bob Kahn', 'Robin Milner', 'Edward Feigenbaum', 'Whitfield Diffie', 'Ivan Sutherland', 'Kenneth E. Iverson', 'Peter Naur', 'Richard E. Stearns', 'Edgar F. Codd', 'John Backus', 'Leonard Adleman', 'Maurice Wilkes', 'Richard Hamming', 'E. Allen Emerson', 'James H. Wilkinson', 'William Kahan', 'John Cocke', 'Edwin Catmull', 'Kristen Nygaard', 'Jim Gray', 'Iosif Sifakis', 'Frances E. Allen', 'Fernando J. Corbató', 'Charles Bachman', 'Butler Lampson', 'Ole-Johan Dahl', 'Charles P. Thacker'], 'birth_date': ['1955-06-08', '1964-03-05', '1947-12-06', '1938-01-10', '1935-01-03', '1948-04-30', '1943-06-23', '1936-09-04', '1916-06-15', '1927-08-09', '1947-05-06', '1942-11-22', '1927-09-04', '1932-10-11', '1934-01-11', '1960-07-08', '1938-04-26', '1943-10-11', '1939-11-07', '1939-12-14', '1930-05-11', '1934-02-15', '1931-09-01', '1958-11-14', '1931-04-19', '1927-03-19', '1950-07-18', '1945-07-27', '1947-11-16', '1941-02-07', '1939-10-07', '1952-09-22', '1928-07-05', '1954-00-00', '1922-04-01', '1952-07-06', '1941-09-09', '1943-02-04', '1925-01-30', '1946-12-24', '1954-10-13', '1945-10-02', '1937-06-13', '1941-04-22', '1941-08-09', '1936-06-08', '1940-05-17', '1949-03-28', '1938-12-23', '1934-01-13', '1936-01-20', '1944-06-05', '1938-05-16', '1920-12-17', '1928-10-25', '1936-07-05', '1923-08-19', '1924-12-03', '1945-12-31', '1913-06-26', '1915-02-11', '1954-06-02', '1919-09-27', '1933-06-05', '1925-05-30', '1945-03-31', '1926-08-27', '1944-01-12', '1946-12-26', '1932-08-04', '1926-07-01', '1924-12-11', '1943-12-23', '1931-10-12', '1943-02-26']}\n"
     ]
    }
   ],
   "source": [
    "award_winners = {}\n",
    "award_winners[\"name\"], award_winners[\"birth_date\"] = get_award_winners_info(wikidata_IDs)\n",
    "print(award_winners)"
   ]
  },
  {
   "cell_type": "markdown",
   "metadata": {},
   "source": [
    "### Task 4"
   ]
  },
  {
   "cell_type": "code",
   "execution_count": 134,
   "metadata": {},
   "outputs": [
    {
     "name": "stdout",
     "output_type": "stream",
     "text": [
      "The names of all award winners are (alphabetical order): \n",
      "\n",
      "Adi Shamir, Alan Kay, Alan Perlis, Alfred Aho, Allen Newell, Amir Pnueli, Andrew Yao, Barbara Liskov, Bob Kahn, Butler Lampson, Charles Bachman, Charles P. Thacker, Dana Scott, David A. Patterson, Dennis M. Ritchie, Donald Knuth, Douglas Engelbart, E. Allen Emerson, Edgar F. Codd, Edmund M. Clarke, Edsger W. Dijkstra, Edward Feigenbaum, Edwin Catmull, Fernando J. Corbató, Frances E. Allen, Fred Brooks, Geoffrey Hinton, Herbert Simon, Iosif Sifakis, Ivan Sutherland, Jack Dongarra, James H. Wilkinson, Jeffrey David Ullman, Jim Gray, John Backus, John Cocke, John Edward Hopcroft, John L. Hennessy, John McCarthy, Judea Pearl, Juris Hartmanis, Ken Thompson, Kenneth E. Iverson, Kristen Nygaard, Leonard Adleman, Leslie Lamport, Leslie Valiant, Manuel Blum, Martin Edward Hellman, Marvin Minsky, Maurice Wilkes, Michael O. Rabin, Michael Stonebraker, Niklaus Wirth, Ole-Johan Dahl, Pat Hanrahan, Peter Naur, Raj Reddy, Richard E. Stearns, Richard Hamming, Richard M. Karp, Robert Tarjan, Robert W. Floyd, Robin Milner, Ron Rivest, Shafrira Goldwasser, Silvio Micali, Stephen Cook, Tim Berners-Lee, Tony Hoare, Vint Cerf, Whitfield Diffie, William Kahan, Yann LeCun, Yoshua Bengio.\n"
     ]
    }
   ],
   "source": [
    "print(\"The names of all award winners are (alphabetical order): \\n\\n{}.\".format(\", \".join(sorted(award_winners[\"name\"]))))"
   ]
  },
  {
   "cell_type": "markdown",
   "metadata": {},
   "source": [
    "### Task 5"
   ]
  },
  {
   "cell_type": "code",
   "execution_count": 136,
   "metadata": {},
   "outputs": [
    {
     "name": "stdout",
     "output_type": "stream",
     "text": [
      "                   name  birth_date  winner_name  count_words  \\\n",
      "0       Tim Berners-Lee  1955-06-08          NaN          NaN   \n",
      "1         Yoshua Bengio  1964-03-05          NaN          NaN   \n",
      "2       Geoffrey Hinton  1947-12-06          NaN          NaN   \n",
      "3          Donald Knuth  1938-01-10          NaN          NaN   \n",
      "4       Richard M. Karp  1935-01-03          NaN          NaN   \n",
      "..                  ...         ...          ...          ...   \n",
      "70  Fernando J. Corbató  1926-07-01          NaN          NaN   \n",
      "71      Charles Bachman  1924-12-11          NaN          NaN   \n",
      "72       Butler Lampson  1943-12-23          NaN          NaN   \n",
      "73       Ole-Johan Dahl  1931-10-12          NaN          NaN   \n",
      "74   Charles P. Thacker  1943-02-26          NaN          NaN   \n",
      "\n",
      "    count_sentences  count_paragraphs  common_words  \n",
      "0               NaN               NaN           NaN  \n",
      "1               NaN               NaN           NaN  \n",
      "2               NaN               NaN           NaN  \n",
      "3               NaN               NaN           NaN  \n",
      "4               NaN               NaN           NaN  \n",
      "..              ...               ...           ...  \n",
      "70              NaN               NaN           NaN  \n",
      "71              NaN               NaN           NaN  \n",
      "72              NaN               NaN           NaN  \n",
      "73              NaN               NaN           NaN  \n",
      "74              NaN               NaN           NaN  \n",
      "\n",
      "[75 rows x 7 columns]\n"
     ]
    }
   ],
   "source": [
    "award_winners_intro = pd.DataFrame(award_winners)\n",
    "award_winners_intro[\"winner_name\"] = np.nan\n",
    "award_winners_intro[\"count_words\"] = np.nan\n",
    "award_winners_intro[\"count_sentences\"] = np.nan\n",
    "award_winners_intro[\"count_paragraphs\"] = np.nan\n",
    "award_winners_intro[\"common_words\"] = np.nan\n",
    "\n",
    "\n",
    "print(award_winners_intro)"
   ]
  },
  {
   "cell_type": "markdown",
   "metadata": {},
   "source": [
    "## 3.2 Sub-activity: Applying NLP operations on the corpus"
   ]
  },
  {
   "cell_type": "markdown",
   "metadata": {},
   "source": [
    "### 3.2.1 Stemming"
   ]
  },
  {
   "cell_type": "markdown",
   "metadata": {},
   "source": [
    "### Task 3"
   ]
  },
  {
   "cell_type": "code",
   "execution_count": null,
   "metadata": {},
   "outputs": [],
   "source": []
  },
  {
   "cell_type": "markdown",
   "metadata": {},
   "source": [
    "### Task 4"
   ]
  },
  {
   "cell_type": "code",
   "execution_count": null,
   "metadata": {},
   "outputs": [],
   "source": []
  },
  {
   "cell_type": "markdown",
   "metadata": {},
   "source": [
    "### 3.2.2 Lemmatization"
   ]
  },
  {
   "cell_type": "markdown",
   "metadata": {},
   "source": [
    "### Task 5"
   ]
  },
  {
   "cell_type": "code",
   "execution_count": null,
   "metadata": {},
   "outputs": [],
   "source": []
  },
  {
   "cell_type": "markdown",
   "metadata": {},
   "source": [
    "### 3.2.3 Finding synonyms and antonyms"
   ]
  },
  {
   "cell_type": "markdown",
   "metadata": {},
   "source": [
    "### Task 6"
   ]
  },
  {
   "cell_type": "code",
   "execution_count": null,
   "metadata": {},
   "outputs": [],
   "source": []
  },
  {
   "cell_type": "markdown",
   "metadata": {},
   "source": [
    "### 3.2.4 Bigrams and trigrams"
   ]
  },
  {
   "cell_type": "markdown",
   "metadata": {},
   "source": [
    "### Task 7"
   ]
  },
  {
   "cell_type": "code",
   "execution_count": null,
   "metadata": {},
   "outputs": [],
   "source": []
  },
  {
   "cell_type": "markdown",
   "metadata": {},
   "source": [
    "### Task 8"
   ]
  },
  {
   "cell_type": "code",
   "execution_count": null,
   "metadata": {},
   "outputs": [],
   "source": []
  },
  {
   "cell_type": "markdown",
   "metadata": {},
   "source": [
    "### Task 9"
   ]
  },
  {
   "cell_type": "code",
   "execution_count": null,
   "metadata": {},
   "outputs": [],
   "source": []
  },
  {
   "cell_type": "markdown",
   "metadata": {},
   "source": [
    "### Task 10"
   ]
  },
  {
   "cell_type": "code",
   "execution_count": null,
   "metadata": {},
   "outputs": [],
   "source": []
  },
  {
   "cell_type": "markdown",
   "metadata": {},
   "source": [
    "## 3.3 Sub-section: Visualisation"
   ]
  },
  {
   "cell_type": "markdown",
   "metadata": {},
   "source": [
    "### 3.3.1 Barplots"
   ]
  },
  {
   "cell_type": "markdown",
   "metadata": {},
   "source": [
    "### Task 11"
   ]
  },
  {
   "cell_type": "code",
   "execution_count": null,
   "metadata": {},
   "outputs": [],
   "source": []
  },
  {
   "cell_type": "markdown",
   "metadata": {},
   "source": [
    "### Task 12"
   ]
  },
  {
   "cell_type": "code",
   "execution_count": null,
   "metadata": {},
   "outputs": [],
   "source": []
  },
  {
   "cell_type": "markdown",
   "metadata": {},
   "source": [
    "### Task 13"
   ]
  },
  {
   "cell_type": "code",
   "execution_count": null,
   "metadata": {},
   "outputs": [],
   "source": []
  },
  {
   "cell_type": "markdown",
   "metadata": {},
   "source": [
    "### 3.3.2 Heatmap"
   ]
  },
  {
   "cell_type": "markdown",
   "metadata": {},
   "source": [
    "### Task 14"
   ]
  },
  {
   "cell_type": "code",
   "execution_count": null,
   "metadata": {},
   "outputs": [],
   "source": []
  }
 ],
 "metadata": {
  "kernelspec": {
   "display_name": "Python 3.9.13 ('base')",
   "language": "python",
   "name": "python3"
  },
  "language_info": {
   "codemirror_mode": {
    "name": "ipython",
    "version": 3
   },
   "file_extension": ".py",
   "mimetype": "text/x-python",
   "name": "python",
   "nbconvert_exporter": "python",
   "pygments_lexer": "ipython3",
   "version": "3.9.13"
  },
  "orig_nbformat": 4,
  "vscode": {
   "interpreter": {
    "hash": "40d3a090f54c6569ab1632332b64b2c03c39dcf918b08424e98f38b5ae0af88f"
   }
  }
 },
 "nbformat": 4,
 "nbformat_minor": 2
}
